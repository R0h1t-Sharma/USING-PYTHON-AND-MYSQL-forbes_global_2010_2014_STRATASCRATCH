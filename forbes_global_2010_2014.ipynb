{
 "cells": [
  {
   "cell_type": "markdown",
   "id": "1835ca03-c0ec-4851-ba9c-c0dccef1eeef",
   "metadata": {},
   "source": [
    "### 1.Find the 3 most profitable companies in the entire world.\r\n",
    "Output the result along with the corresponding company name.\r\n",
    "Sort the result based on profits in descending order."
   ]
  },
  {
   "cell_type": "code",
   "execution_count": 55,
   "id": "b0ab6e4a-af9b-4a6a-b1aa-4dc9cc88190e",
   "metadata": {},
   "outputs": [],
   "source": [
    "import warnings\n",
    "\n",
    "# Suppress SettingWithCopyWarning\n",
    "warnings.filterwarnings(\"ignore\", category=pd.errors.SettingWithCopyWarning)\n"
   ]
  },
  {
   "cell_type": "code",
   "execution_count": 3,
   "id": "6ea20007-d5b0-455b-8ac8-076248c1fc5a",
   "metadata": {},
   "outputs": [],
   "source": [
    "import pandas as pd\n",
    "\n",
    "# Specify the path to the CSV file\n",
    "file_path = r\"D:\\STRATASCRATCH 1\\forbes_global_2010_2014\\forbes_global_2010_2014.csv\"\n",
    "\n",
    "# Read the CSV file into a DataFrame\n",
    "forbes_global_2010_2014 = pd.read_csv(file_path)"
   ]
  },
  {
   "cell_type": "code",
   "execution_count": 4,
   "id": "d761c92d-e132-4601-a0e4-f468711d14c5",
   "metadata": {},
   "outputs": [
    {
     "name": "stdout",
     "output_type": "stream",
     "text": [
      "                      company      sector             industry      continent  \\\n",
      "0                        ICBC  Financials          Major Banks           Asia   \n",
      "1     China Construction Bank  Financials       Regional Banks           Asia   \n",
      "2  Agricultural Bank of China  Financials       Regional Banks           Asia   \n",
      "3              JPMorgan Chase  Financials          Major Banks  North America   \n",
      "4          Berkshire Hathaway  Financials  Investment Services  North America   \n",
      "\n",
      "         country  marketvalue  sales  profits  assets  rank  \\\n",
      "0          China        215.6  148.7     42.7  3124.9     1   \n",
      "1          China        174.4  121.3     34.2  2449.5     2   \n",
      "2          China        141.1  136.4     27.0  2405.4     3   \n",
      "3  United States        229.7  105.7     17.3  2435.3     4   \n",
      "4  United States        309.1  178.8     19.5   493.4     5   \n",
      "\n",
      "                                       forbeswebpage  \n",
      "0              http://www.forbes.com/companies/icbc/  \n",
      "1  http://www.forbes.com/companies/china-construc...  \n",
      "2  http://www.forbes.com/companies/agricultural-b...  \n",
      "3    http://www.forbes.com/companies/jpmorgan-chase/  \n",
      "4  http://www.forbes.com/companies/berkshire-hath...  \n"
     ]
    }
   ],
   "source": [
    "# Display the first few rows of the DataFrame\n",
    "print(df.head())"
   ]
  },
  {
   "cell_type": "code",
   "execution_count": 5,
   "id": "7108f1cf-f15b-48fa-9c1c-e5fef4c07aa0",
   "metadata": {},
   "outputs": [],
   "source": [
    "import pandas as pd\n",
    "import numpy as np\n",
    "\n",
    "result = forbes_global_2010_2014.groupby('company')['profits'].sum(\n",
    ").reset_index().sort_values(by='profits', ascending=False)\n",
    "result['rank'] = result['profits'].rank(method='min', ascending=False)\n",
    "result = result[result['rank'] <= 3][['company', 'profits']]"
   ]
  },
  {
   "cell_type": "code",
   "execution_count": 6,
   "id": "b4983245-2146-434b-8766-390e8a8cae70",
   "metadata": {},
   "outputs": [
    {
     "data": {
      "text/html": [
       "<div>\n",
       "<style scoped>\n",
       "    .dataframe tbody tr th:only-of-type {\n",
       "        vertical-align: middle;\n",
       "    }\n",
       "\n",
       "    .dataframe tbody tr th {\n",
       "        vertical-align: top;\n",
       "    }\n",
       "\n",
       "    .dataframe thead th {\n",
       "        text-align: right;\n",
       "    }\n",
       "</style>\n",
       "<table border=\"1\" class=\"dataframe\">\n",
       "  <thead>\n",
       "    <tr style=\"text-align: right;\">\n",
       "      <th></th>\n",
       "      <th>company</th>\n",
       "      <th>profits</th>\n",
       "    </tr>\n",
       "  </thead>\n",
       "  <tbody>\n",
       "    <tr>\n",
       "      <th>49</th>\n",
       "      <td>ICBC</td>\n",
       "      <td>42.7</td>\n",
       "    </tr>\n",
       "    <tr>\n",
       "      <th>39</th>\n",
       "      <td>Gazprom</td>\n",
       "      <td>39.0</td>\n",
       "    </tr>\n",
       "    <tr>\n",
       "      <th>7</th>\n",
       "      <td>Apple</td>\n",
       "      <td>37.0</td>\n",
       "    </tr>\n",
       "  </tbody>\n",
       "</table>\n",
       "</div>"
      ],
      "text/plain": [
       "    company  profits\n",
       "49     ICBC     42.7\n",
       "39  Gazprom     39.0\n",
       "7     Apple     37.0"
      ]
     },
     "execution_count": 6,
     "metadata": {},
     "output_type": "execute_result"
    }
   ],
   "source": [
    "result"
   ]
  },
  {
   "cell_type": "markdown",
   "id": "fb517a36-c92c-43d3-939f-81c716d79293",
   "metadata": {},
   "source": [
    "### 2.Find the continet with the highest number of companies.\r\n",
    "Output the continent along with the corresponding number of companies."
   ]
  },
  {
   "cell_type": "code",
   "execution_count": 7,
   "id": "23ff8bf4-f611-48ec-9b7f-4c7173883a91",
   "metadata": {},
   "outputs": [],
   "source": [
    "# Import your libraries\n",
    "import pandas as pd\n",
    "\n",
    "# Start writing code\n",
    "#forbes_global_2010_2014.head()\n",
    "result = forbes_global_2010_2014.groupby(['continent'])['company'].size().to_frame('n_companies').reset_index()\n",
    "result =result[result.n_companies == max(result.n_companies)]"
   ]
  },
  {
   "cell_type": "code",
   "execution_count": 8,
   "id": "4d937dca-06c1-4713-9a39-6ad5a6807e81",
   "metadata": {},
   "outputs": [
    {
     "data": {
      "text/html": [
       "<div>\n",
       "<style scoped>\n",
       "    .dataframe tbody tr th:only-of-type {\n",
       "        vertical-align: middle;\n",
       "    }\n",
       "\n",
       "    .dataframe tbody tr th {\n",
       "        vertical-align: top;\n",
       "    }\n",
       "\n",
       "    .dataframe thead th {\n",
       "        text-align: right;\n",
       "    }\n",
       "</style>\n",
       "<table border=\"1\" class=\"dataframe\">\n",
       "  <thead>\n",
       "    <tr style=\"text-align: right;\">\n",
       "      <th></th>\n",
       "      <th>continent</th>\n",
       "      <th>n_companies</th>\n",
       "    </tr>\n",
       "  </thead>\n",
       "  <tbody>\n",
       "    <tr>\n",
       "      <th>3</th>\n",
       "      <td>North America</td>\n",
       "      <td>40</td>\n",
       "    </tr>\n",
       "  </tbody>\n",
       "</table>\n",
       "</div>"
      ],
      "text/plain": [
       "       continent  n_companies\n",
       "3  North America           40"
      ]
     },
     "execution_count": 8,
     "metadata": {},
     "output_type": "execute_result"
    }
   ],
   "source": [
    "result"
   ]
  },
  {
   "cell_type": "markdown",
   "id": "a006fb9f-15fd-49be-b64c-2e500c7762d0",
   "metadata": {},
   "source": [
    "### 3-Find the total assets of the energy sector."
   ]
  },
  {
   "cell_type": "code",
   "execution_count": 9,
   "id": "3e8a3aff-9494-4d8a-9a94-bb2e38fbce28",
   "metadata": {},
   "outputs": [],
   "source": [
    "import pandas as pd\n",
    "import numpy as np\n",
    "\n",
    "energy = forbes_global_2010_2014[forbes_global_2010_2014['sector'] == 'Energy']\n",
    "result = energy['assets'].sum()"
   ]
  },
  {
   "cell_type": "code",
   "execution_count": 10,
   "id": "bf97a415-c83e-42be-9089-711255271422",
   "metadata": {},
   "outputs": [
    {
     "data": {
      "text/plain": [
       "3624.1"
      ]
     },
     "execution_count": 10,
     "metadata": {},
     "output_type": "execute_result"
    }
   ],
   "source": [
    "result"
   ]
  },
  {
   "cell_type": "markdown",
   "id": "381867b8-91e5-4feb-b217-dfb815d637a5",
   "metadata": {},
   "source": [
    "### 4-Find the top 3 sectors in the United States with highest average rank. Output the average rank along with the sector name."
   ]
  },
  {
   "cell_type": "code",
   "execution_count": 11,
   "id": "5e97dcfc-183b-45a6-8beb-6247b2ccff0f",
   "metadata": {},
   "outputs": [
    {
     "data": {
      "text/html": [
       "<div>\n",
       "<style scoped>\n",
       "    .dataframe tbody tr th:only-of-type {\n",
       "        vertical-align: middle;\n",
       "    }\n",
       "\n",
       "    .dataframe tbody tr th {\n",
       "        vertical-align: top;\n",
       "    }\n",
       "\n",
       "    .dataframe thead th {\n",
       "        text-align: right;\n",
       "    }\n",
       "</style>\n",
       "<table border=\"1\" class=\"dataframe\">\n",
       "  <thead>\n",
       "    <tr style=\"text-align: right;\">\n",
       "      <th></th>\n",
       "      <th>sector</th>\n",
       "      <th>avg_rank</th>\n",
       "    </tr>\n",
       "  </thead>\n",
       "  <tbody>\n",
       "    <tr>\n",
       "      <th>7</th>\n",
       "      <td>Telecommunication Services</td>\n",
       "      <td>24.500000</td>\n",
       "    </tr>\n",
       "    <tr>\n",
       "      <th>3</th>\n",
       "      <td>Financials</td>\n",
       "      <td>27.000000</td>\n",
       "    </tr>\n",
       "    <tr>\n",
       "      <th>2</th>\n",
       "      <td>Energy</td>\n",
       "      <td>33.333333</td>\n",
       "    </tr>\n",
       "  </tbody>\n",
       "</table>\n",
       "</div>"
      ],
      "text/plain": [
       "                       sector   avg_rank\n",
       "7  Telecommunication Services  24.500000\n",
       "3                  Financials  27.000000\n",
       "2                      Energy  33.333333"
      ]
     },
     "execution_count": 11,
     "metadata": {},
     "output_type": "execute_result"
    }
   ],
   "source": [
    "import pandas as pd\n",
    "import numpy as np\n",
    "\n",
    "result = forbes_global_2010_2014[forbes_global_2010_2014['country']=='United States'].groupby(['sector'])['rank'].mean().to_frame('avg_rank').reset_index().sort_values('avg_rank')\n",
    "\n",
    "result[result['avg_rank'].isin(result['avg_rank'].nsmallest(3, keep='all'))]"
   ]
  },
  {
   "cell_type": "code",
   "execution_count": 12,
   "id": "f80263b1-7d55-407e-afb3-ac5191209156",
   "metadata": {},
   "outputs": [
    {
     "data": {
      "text/html": [
       "<div>\n",
       "<style scoped>\n",
       "    .dataframe tbody tr th:only-of-type {\n",
       "        vertical-align: middle;\n",
       "    }\n",
       "\n",
       "    .dataframe tbody tr th {\n",
       "        vertical-align: top;\n",
       "    }\n",
       "\n",
       "    .dataframe thead th {\n",
       "        text-align: right;\n",
       "    }\n",
       "</style>\n",
       "<table border=\"1\" class=\"dataframe\">\n",
       "  <thead>\n",
       "    <tr style=\"text-align: right;\">\n",
       "      <th></th>\n",
       "      <th>sector</th>\n",
       "      <th>avg_rank</th>\n",
       "    </tr>\n",
       "  </thead>\n",
       "  <tbody>\n",
       "    <tr>\n",
       "      <th>7</th>\n",
       "      <td>Telecommunication Services</td>\n",
       "      <td>24.500000</td>\n",
       "    </tr>\n",
       "    <tr>\n",
       "      <th>3</th>\n",
       "      <td>Financials</td>\n",
       "      <td>27.000000</td>\n",
       "    </tr>\n",
       "    <tr>\n",
       "      <th>2</th>\n",
       "      <td>Energy</td>\n",
       "      <td>33.333333</td>\n",
       "    </tr>\n",
       "    <tr>\n",
       "      <th>0</th>\n",
       "      <td>Consumer Discretionary</td>\n",
       "      <td>58.200000</td>\n",
       "    </tr>\n",
       "    <tr>\n",
       "      <th>6</th>\n",
       "      <td>Information Technology</td>\n",
       "      <td>58.500000</td>\n",
       "    </tr>\n",
       "    <tr>\n",
       "      <th>5</th>\n",
       "      <td>Industrials</td>\n",
       "      <td>60.333333</td>\n",
       "    </tr>\n",
       "    <tr>\n",
       "      <th>4</th>\n",
       "      <td>Health Care</td>\n",
       "      <td>67.250000</td>\n",
       "    </tr>\n",
       "    <tr>\n",
       "      <th>1</th>\n",
       "      <td>Consumer Staples</td>\n",
       "      <td>77.500000</td>\n",
       "    </tr>\n",
       "  </tbody>\n",
       "</table>\n",
       "</div>"
      ],
      "text/plain": [
       "                       sector   avg_rank\n",
       "7  Telecommunication Services  24.500000\n",
       "3                  Financials  27.000000\n",
       "2                      Energy  33.333333\n",
       "0      Consumer Discretionary  58.200000\n",
       "6      Information Technology  58.500000\n",
       "5                 Industrials  60.333333\n",
       "4                 Health Care  67.250000\n",
       "1            Consumer Staples  77.500000"
      ]
     },
     "execution_count": 12,
     "metadata": {},
     "output_type": "execute_result"
    }
   ],
   "source": [
    "result"
   ]
  },
  {
   "cell_type": "markdown",
   "id": "3e903a8c-26c6-41a6-bf9f-32e135b709f2",
   "metadata": {},
   "source": [
    "### 5-Find the number of USA companies that are on the list."
   ]
  },
  {
   "cell_type": "code",
   "execution_count": 13,
   "id": "d8d2313a-3d9a-447c-a005-800af94fe543",
   "metadata": {},
   "outputs": [],
   "source": [
    "import pandas as pd\n",
    "import numpy as np\n",
    "\n",
    "states = forbes_global_2010_2014[forbes_global_2010_2014['country'] == 'United States']\n",
    "result = len(states['company'])"
   ]
  },
  {
   "cell_type": "code",
   "execution_count": 14,
   "id": "1bd86d6b-ccc7-44ae-885b-0f464141cc8c",
   "metadata": {},
   "outputs": [
    {
     "data": {
      "text/plain": [
       "37"
      ]
     },
     "execution_count": 14,
     "metadata": {},
     "output_type": "execute_result"
    }
   ],
   "source": [
    "result"
   ]
  },
  {
   "cell_type": "markdown",
   "id": "757ba902-ad1b-4565-a914-590b9a1bb8b5",
   "metadata": {},
   "source": [
    "### 6-Find the total market value for the financial sector."
   ]
  },
  {
   "cell_type": "code",
   "execution_count": 15,
   "id": "14cc563e-3c9c-4cf3-8a11-7283f5c8d222",
   "metadata": {},
   "outputs": [],
   "source": [
    "import pandas as pd\n",
    "import numpy as np\n",
    "\n",
    "financials = forbes_global_2010_2014[forbes_global_2010_2014['sector'] == 'Financials']\n",
    "result = financials['marketvalue'].sum()"
   ]
  },
  {
   "cell_type": "markdown",
   "id": "58e2f592-27e1-4561-9db7-eb44ed394924",
   "metadata": {},
   "source": [
    "### 7-\r\n",
    "Find industries with the highest market value in Asia.\r\n",
    "Output the industry along with the corresponding total market value."
   ]
  },
  {
   "cell_type": "code",
   "execution_count": 16,
   "id": "4cc59b46-556e-4516-8970-7e4313cac881",
   "metadata": {},
   "outputs": [],
   "source": [
    "import pandas as pd\n",
    "import numpy as np\n",
    "\n",
    "asia = forbes_global_2010_2014[forbes_global_2010_2014['continent'] == 'Asia']\n",
    "asia_sum = asia.groupby(['industry'])['marketvalue'].sum()\n",
    "result = asia_sum[asia_sum == asia_sum.max()].reset_index()"
   ]
  },
  {
   "cell_type": "code",
   "execution_count": 17,
   "id": "1808487d-ff27-4bac-8f3f-86eb10eb54d1",
   "metadata": {},
   "outputs": [
    {
     "data": {
      "text/html": [
       "<div>\n",
       "<style scoped>\n",
       "    .dataframe tbody tr th:only-of-type {\n",
       "        vertical-align: middle;\n",
       "    }\n",
       "\n",
       "    .dataframe tbody tr th {\n",
       "        vertical-align: top;\n",
       "    }\n",
       "\n",
       "    .dataframe thead th {\n",
       "        text-align: right;\n",
       "    }\n",
       "</style>\n",
       "<table border=\"1\" class=\"dataframe\">\n",
       "  <thead>\n",
       "    <tr style=\"text-align: right;\">\n",
       "      <th></th>\n",
       "      <th>industry</th>\n",
       "      <th>marketvalue</th>\n",
       "    </tr>\n",
       "  </thead>\n",
       "  <tbody>\n",
       "    <tr>\n",
       "      <th>0</th>\n",
       "      <td>Major Banks</td>\n",
       "      <td>524.8</td>\n",
       "    </tr>\n",
       "  </tbody>\n",
       "</table>\n",
       "</div>"
      ],
      "text/plain": [
       "      industry  marketvalue\n",
       "0  Major Banks        524.8"
      ]
     },
     "execution_count": 17,
     "metadata": {},
     "output_type": "execute_result"
    }
   ],
   "source": [
    "result"
   ]
  },
  {
   "cell_type": "markdown",
   "id": "3396b74f-a8f4-404f-8eb1-9b81592f63a2",
   "metadata": {},
   "source": [
    "### 8- Find the average profit for major banks."
   ]
  },
  {
   "cell_type": "code",
   "execution_count": 21,
   "id": "3a0f0ed9-b2bd-4296-aad4-42ea002f7be5",
   "metadata": {},
   "outputs": [],
   "source": [
    "import pandas as pd\n",
    "import numpy as np\n",
    "\n",
    "banks = forbes_global_2010_2014[forbes_global_2010_2014['industry'] == 'Major Banks']\n",
    "result = banks['profits'].mean()"
   ]
  },
  {
   "cell_type": "code",
   "execution_count": 22,
   "id": "8fcffe19-4e70-4f14-aac6-15ab57ac5063",
   "metadata": {},
   "outputs": [
    {
     "data": {
      "text/plain": [
       "11.9"
      ]
     },
     "execution_count": 22,
     "metadata": {},
     "output_type": "execute_result"
    }
   ],
   "source": [
    "result"
   ]
  },
  {
   "cell_type": "markdown",
   "id": "a492d0f3-9266-42e9-822c-57919d34dbe0",
   "metadata": {},
   "source": [
    "### 9-Find industries with the highest number of companies.\r\n",
    "Output the industry along with the number of companies.\r\n",
    "Sort records based on the number of companies in descending order."
   ]
  },
  {
   "cell_type": "code",
   "execution_count": 19,
   "id": "7aea77e6-c816-44f5-8720-010f67eb4e9b",
   "metadata": {},
   "outputs": [],
   "source": [
    "import pandas as pd\n",
    "import numpy as np\n",
    "\n",
    "result = forbes_global_2010_2014.groupby(['industry'])['company'].size().to_frame('n_companies').reset_index().sort_values('n_companies', ascending = False)"
   ]
  },
  {
   "cell_type": "code",
   "execution_count": 20,
   "id": "b1af1606-49d1-4811-af94-760950e49a4e",
   "metadata": {},
   "outputs": [
    {
     "data": {
      "text/html": [
       "<div>\n",
       "<style scoped>\n",
       "    .dataframe tbody tr th:only-of-type {\n",
       "        vertical-align: middle;\n",
       "    }\n",
       "\n",
       "    .dataframe tbody tr th {\n",
       "        vertical-align: top;\n",
       "    }\n",
       "\n",
       "    .dataframe thead th {\n",
       "        text-align: right;\n",
       "    }\n",
       "</style>\n",
       "<table border=\"1\" class=\"dataframe\">\n",
       "  <thead>\n",
       "    <tr style=\"text-align: right;\">\n",
       "      <th></th>\n",
       "      <th>industry</th>\n",
       "      <th>n_companies</th>\n",
       "    </tr>\n",
       "  </thead>\n",
       "  <tbody>\n",
       "    <tr>\n",
       "      <th>18</th>\n",
       "      <td>Major Banks</td>\n",
       "      <td>21</td>\n",
       "    </tr>\n",
       "    <tr>\n",
       "      <th>21</th>\n",
       "      <td>Oil &amp; Gas Operations</td>\n",
       "      <td>14</td>\n",
       "    </tr>\n",
       "    <tr>\n",
       "      <th>1</th>\n",
       "      <td>Auto &amp; Truck Manufacturers</td>\n",
       "      <td>8</td>\n",
       "    </tr>\n",
       "    <tr>\n",
       "      <th>26</th>\n",
       "      <td>Telecommunications services</td>\n",
       "      <td>7</td>\n",
       "    </tr>\n",
       "    <tr>\n",
       "      <th>10</th>\n",
       "      <td>Diversified Insurance</td>\n",
       "      <td>7</td>\n",
       "    </tr>\n",
       "    <tr>\n",
       "      <th>22</th>\n",
       "      <td>Pharmaceuticals</td>\n",
       "      <td>5</td>\n",
       "    </tr>\n",
       "    <tr>\n",
       "      <th>23</th>\n",
       "      <td>Regional Banks</td>\n",
       "      <td>4</td>\n",
       "    </tr>\n",
       "    <tr>\n",
       "      <th>2</th>\n",
       "      <td>Beverages</td>\n",
       "      <td>3</td>\n",
       "    </tr>\n",
       "    <tr>\n",
       "      <th>7</th>\n",
       "      <td>Conglomerates</td>\n",
       "      <td>3</td>\n",
       "    </tr>\n",
       "    <tr>\n",
       "      <th>16</th>\n",
       "      <td>Investment Services</td>\n",
       "      <td>3</td>\n",
       "    </tr>\n",
       "    <tr>\n",
       "      <th>25</th>\n",
       "      <td>Software &amp; Programming</td>\n",
       "      <td>2</td>\n",
       "    </tr>\n",
       "    <tr>\n",
       "      <th>24</th>\n",
       "      <td>Semiconductors</td>\n",
       "      <td>2</td>\n",
       "    </tr>\n",
       "    <tr>\n",
       "      <th>17</th>\n",
       "      <td>Life &amp; Health Insurance</td>\n",
       "      <td>2</td>\n",
       "    </tr>\n",
       "    <tr>\n",
       "      <th>13</th>\n",
       "      <td>Electric Utilities</td>\n",
       "      <td>2</td>\n",
       "    </tr>\n",
       "    <tr>\n",
       "      <th>9</th>\n",
       "      <td>Diversified Chemicals</td>\n",
       "      <td>2</td>\n",
       "    </tr>\n",
       "    <tr>\n",
       "      <th>6</th>\n",
       "      <td>Computer Services</td>\n",
       "      <td>2</td>\n",
       "    </tr>\n",
       "    <tr>\n",
       "      <th>5</th>\n",
       "      <td>Computer Hardware</td>\n",
       "      <td>2</td>\n",
       "    </tr>\n",
       "    <tr>\n",
       "      <th>3</th>\n",
       "      <td>Broadcasting &amp; Cable</td>\n",
       "      <td>2</td>\n",
       "    </tr>\n",
       "    <tr>\n",
       "      <th>14</th>\n",
       "      <td>Food Processing</td>\n",
       "      <td>1</td>\n",
       "    </tr>\n",
       "    <tr>\n",
       "      <th>15</th>\n",
       "      <td>Household/Personal Care</td>\n",
       "      <td>1</td>\n",
       "    </tr>\n",
       "    <tr>\n",
       "      <th>12</th>\n",
       "      <td>Drug Retail</td>\n",
       "      <td>1</td>\n",
       "    </tr>\n",
       "    <tr>\n",
       "      <th>11</th>\n",
       "      <td>Diversified Metals &amp; Mining</td>\n",
       "      <td>1</td>\n",
       "    </tr>\n",
       "    <tr>\n",
       "      <th>19</th>\n",
       "      <td>Managed Health Care</td>\n",
       "      <td>1</td>\n",
       "    </tr>\n",
       "    <tr>\n",
       "      <th>20</th>\n",
       "      <td>Medical Equipment &amp; Supplies</td>\n",
       "      <td>1</td>\n",
       "    </tr>\n",
       "    <tr>\n",
       "      <th>8</th>\n",
       "      <td>Discount Stores</td>\n",
       "      <td>1</td>\n",
       "    </tr>\n",
       "    <tr>\n",
       "      <th>4</th>\n",
       "      <td>Communications Equipment</td>\n",
       "      <td>1</td>\n",
       "    </tr>\n",
       "    <tr>\n",
       "      <th>0</th>\n",
       "      <td>Aerospace &amp; Defense</td>\n",
       "      <td>1</td>\n",
       "    </tr>\n",
       "  </tbody>\n",
       "</table>\n",
       "</div>"
      ],
      "text/plain": [
       "                        industry  n_companies\n",
       "18                   Major Banks           21\n",
       "21          Oil & Gas Operations           14\n",
       "1     Auto & Truck Manufacturers            8\n",
       "26   Telecommunications services            7\n",
       "10         Diversified Insurance            7\n",
       "22               Pharmaceuticals            5\n",
       "23                Regional Banks            4\n",
       "2                      Beverages            3\n",
       "7                  Conglomerates            3\n",
       "16           Investment Services            3\n",
       "25        Software & Programming            2\n",
       "24                Semiconductors            2\n",
       "17       Life & Health Insurance            2\n",
       "13            Electric Utilities            2\n",
       "9          Diversified Chemicals            2\n",
       "6              Computer Services            2\n",
       "5              Computer Hardware            2\n",
       "3           Broadcasting & Cable            2\n",
       "14               Food Processing            1\n",
       "15       Household/Personal Care            1\n",
       "12                   Drug Retail            1\n",
       "11   Diversified Metals & Mining            1\n",
       "19           Managed Health Care            1\n",
       "20  Medical Equipment & Supplies            1\n",
       "8                Discount Stores            1\n",
       "4       Communications Equipment            1\n",
       "0            Aerospace & Defense            1"
      ]
     },
     "execution_count": 20,
     "metadata": {},
     "output_type": "execute_result"
    }
   ],
   "source": [
    "result"
   ]
  },
  {
   "cell_type": "markdown",
   "id": "680b6f8f-b4d4-441a-81f5-c1a26882fa0a",
   "metadata": {},
   "source": [
    "### 10-Find the average profit for major banks."
   ]
  },
  {
   "cell_type": "code",
   "execution_count": 23,
   "id": "48264668-be9b-47a4-aa8f-a903dde234af",
   "metadata": {},
   "outputs": [],
   "source": [
    "import pandas as pd\n",
    "import numpy as np\n",
    "\n",
    "banks = forbes_global_2010_2014[forbes_global_2010_2014['industry'] == 'Major Banks']\n",
    "result = banks['profits'].mean()"
   ]
  },
  {
   "cell_type": "code",
   "execution_count": 24,
   "id": "960c3950-7fcd-4c2e-bdb2-f461d763e364",
   "metadata": {},
   "outputs": [
    {
     "data": {
      "text/plain": [
       "11.9"
      ]
     },
     "execution_count": 24,
     "metadata": {},
     "output_type": "execute_result"
    }
   ],
   "source": [
    "result"
   ]
  },
  {
   "cell_type": "markdown",
   "id": "c81afc83-85ff-44ef-aec8-90814f2d3379",
   "metadata": {},
   "source": [
    "### 11-Find the most popular sector from the Forbes list based on the number of companies in each sector.\r\n",
    "Output the sector along with the number of companies."
   ]
  },
  {
   "cell_type": "code",
   "execution_count": 25,
   "id": "47a674b3-60f2-465a-ad02-68c755f3b7ec",
   "metadata": {},
   "outputs": [],
   "source": [
    "import pandas as pd\n",
    "import numpy as np\n",
    "\n",
    "result = (forbes_global_2010_2014\n",
    "            .groupby(['sector'])\n",
    "            .size()\n",
    "            .to_frame('n_companies')\n",
    "            .reset_index()\n",
    "            .assign(rnk = lambda x: pd.Series.rank(x['n_companies'], method='min', ascending=False))\n",
    "            .query(\"rnk == 1\")[['sector', 'n_companies']]\n",
    "    )"
   ]
  },
  {
   "cell_type": "code",
   "execution_count": 26,
   "id": "25c7dd7d-ad7f-4e9d-b326-70e797482196",
   "metadata": {},
   "outputs": [
    {
     "data": {
      "text/html": [
       "<div>\n",
       "<style scoped>\n",
       "    .dataframe tbody tr th:only-of-type {\n",
       "        vertical-align: middle;\n",
       "    }\n",
       "\n",
       "    .dataframe tbody tr th {\n",
       "        vertical-align: top;\n",
       "    }\n",
       "\n",
       "    .dataframe thead th {\n",
       "        text-align: right;\n",
       "    }\n",
       "</style>\n",
       "<table border=\"1\" class=\"dataframe\">\n",
       "  <thead>\n",
       "    <tr style=\"text-align: right;\">\n",
       "      <th></th>\n",
       "      <th>sector</th>\n",
       "      <th>n_companies</th>\n",
       "    </tr>\n",
       "  </thead>\n",
       "  <tbody>\n",
       "    <tr>\n",
       "      <th>3</th>\n",
       "      <td>Financials</td>\n",
       "      <td>37</td>\n",
       "    </tr>\n",
       "  </tbody>\n",
       "</table>\n",
       "</div>"
      ],
      "text/plain": [
       "       sector  n_companies\n",
       "3  Financials           37"
      ]
     },
     "execution_count": 26,
     "metadata": {},
     "output_type": "execute_result"
    }
   ],
   "source": [
    "result"
   ]
  },
  {
   "cell_type": "markdown",
   "id": "4c941450-7a5f-4549-a495-84b515ef49f2",
   "metadata": {},
   "source": [
    "### 12-Find the country that has the most companies listed on Forbes.\r\n",
    "\r\n",
    "Output the country along with the number of companies."
   ]
  },
  {
   "cell_type": "code",
   "execution_count": 27,
   "id": "cd86f26a-794f-46ef-ad02-e8c29f9f1297",
   "metadata": {},
   "outputs": [],
   "source": [
    "import pandas as pd\n",
    "import numpy as np\n",
    "\n",
    "\n",
    "result = forbes_global_2010_2014.groupby(['country'])['company'].size().to_frame('n_companies').reset_index().sort_values('n_companies', ascending = False).head(1)"
   ]
  },
  {
   "cell_type": "code",
   "execution_count": 28,
   "id": "b429fba1-223e-41d8-baea-b050928cadaf",
   "metadata": {},
   "outputs": [
    {
     "data": {
      "text/html": [
       "<div>\n",
       "<style scoped>\n",
       "    .dataframe tbody tr th:only-of-type {\n",
       "        vertical-align: middle;\n",
       "    }\n",
       "\n",
       "    .dataframe tbody tr th {\n",
       "        vertical-align: top;\n",
       "    }\n",
       "\n",
       "    .dataframe thead th {\n",
       "        text-align: right;\n",
       "    }\n",
       "</style>\n",
       "<table border=\"1\" class=\"dataframe\">\n",
       "  <thead>\n",
       "    <tr style=\"text-align: right;\">\n",
       "      <th></th>\n",
       "      <th>country</th>\n",
       "      <th>n_companies</th>\n",
       "    </tr>\n",
       "  </thead>\n",
       "  <tbody>\n",
       "    <tr>\n",
       "      <th>18</th>\n",
       "      <td>United States</td>\n",
       "      <td>37</td>\n",
       "    </tr>\n",
       "  </tbody>\n",
       "</table>\n",
       "</div>"
      ],
      "text/plain": [
       "          country  n_companies\n",
       "18  United States           37"
      ]
     },
     "execution_count": 28,
     "metadata": {},
     "output_type": "execute_result"
    }
   ],
   "source": [
    "result"
   ]
  },
  {
   "cell_type": "markdown",
   "id": "6d0ce6b9-37b9-4d89-91c9-6907f0ec9c63",
   "metadata": {},
   "source": [
    "### 13-Find all industries with a positive average profit. For those industries extract their lowest sale.\r\n",
    "Output the industry along with the corresponding lowest sale and average profit.\r\n",
    "Sort the output based on the lowest sales in ascending order."
   ]
  },
  {
   "cell_type": "code",
   "execution_count": 29,
   "id": "0479ee8c-c232-4d3f-a353-b50e5120f20d",
   "metadata": {},
   "outputs": [],
   "source": [
    "import pandas as pd\n",
    "import numpy as np\n",
    "\n",
    "aggregations = {'sales':'min','profits': 'mean'}\n",
    "filtered_df = forbes_global_2010_2014.groupby('industry').agg(aggregations).reset_index()\n",
    "result = filtered_df.groupby(['industry']).filter(lambda g: g['profits'].mean() > 0).sort_values('sales')"
   ]
  },
  {
   "cell_type": "code",
   "execution_count": 30,
   "id": "33a60dd7-4a11-4e9f-948f-f629ce105426",
   "metadata": {},
   "outputs": [
    {
     "data": {
      "text/html": [
       "<div>\n",
       "<style scoped>\n",
       "    .dataframe tbody tr th:only-of-type {\n",
       "        vertical-align: middle;\n",
       "    }\n",
       "\n",
       "    .dataframe tbody tr th {\n",
       "        vertical-align: top;\n",
       "    }\n",
       "\n",
       "    .dataframe thead th {\n",
       "        text-align: right;\n",
       "    }\n",
       "</style>\n",
       "<table border=\"1\" class=\"dataframe\">\n",
       "  <thead>\n",
       "    <tr style=\"text-align: right;\">\n",
       "      <th></th>\n",
       "      <th>industry</th>\n",
       "      <th>sales</th>\n",
       "      <th>profits</th>\n",
       "    </tr>\n",
       "  </thead>\n",
       "  <tbody>\n",
       "    <tr>\n",
       "      <th>18</th>\n",
       "      <td>Major Banks</td>\n",
       "      <td>27.7</td>\n",
       "      <td>11.900000</td>\n",
       "    </tr>\n",
       "    <tr>\n",
       "      <th>17</th>\n",
       "      <td>Life &amp; Health Insurance</td>\n",
       "      <td>34.5</td>\n",
       "      <td>4.200000</td>\n",
       "    </tr>\n",
       "    <tr>\n",
       "      <th>25</th>\n",
       "      <td>Software &amp; Programming</td>\n",
       "      <td>37.9</td>\n",
       "      <td>16.950000</td>\n",
       "    </tr>\n",
       "    <tr>\n",
       "      <th>16</th>\n",
       "      <td>Investment Services</td>\n",
       "      <td>39.5</td>\n",
       "      <td>10.300000</td>\n",
       "    </tr>\n",
       "    <tr>\n",
       "      <th>2</th>\n",
       "      <td>Beverages</td>\n",
       "      <td>43.2</td>\n",
       "      <td>9.900000</td>\n",
       "    </tr>\n",
       "    <tr>\n",
       "      <th>22</th>\n",
       "      <td>Pharmaceuticals</td>\n",
       "      <td>43.7</td>\n",
       "      <td>10.500000</td>\n",
       "    </tr>\n",
       "    <tr>\n",
       "      <th>3</th>\n",
       "      <td>Broadcasting &amp; Cable</td>\n",
       "      <td>46.0</td>\n",
       "      <td>6.700000</td>\n",
       "    </tr>\n",
       "    <tr>\n",
       "      <th>4</th>\n",
       "      <td>Communications Equipment</td>\n",
       "      <td>47.9</td>\n",
       "      <td>8.200000</td>\n",
       "    </tr>\n",
       "    <tr>\n",
       "      <th>9</th>\n",
       "      <td>Diversified Chemicals</td>\n",
       "      <td>50.4</td>\n",
       "      <td>6.550000</td>\n",
       "    </tr>\n",
       "    <tr>\n",
       "      <th>24</th>\n",
       "      <td>Semiconductors</td>\n",
       "      <td>52.7</td>\n",
       "      <td>18.400000</td>\n",
       "    </tr>\n",
       "    <tr>\n",
       "      <th>21</th>\n",
       "      <td>Oil &amp; Gas Operations</td>\n",
       "      <td>55.6</td>\n",
       "      <td>16.471429</td>\n",
       "    </tr>\n",
       "    <tr>\n",
       "      <th>26</th>\n",
       "      <td>Telecommunications services</td>\n",
       "      <td>55.6</td>\n",
       "      <td>14.128571</td>\n",
       "    </tr>\n",
       "    <tr>\n",
       "      <th>23</th>\n",
       "      <td>Regional Banks</td>\n",
       "      <td>56.5</td>\n",
       "      <td>19.550000</td>\n",
       "    </tr>\n",
       "    <tr>\n",
       "      <th>10</th>\n",
       "      <td>Diversified Insurance</td>\n",
       "      <td>59.0</td>\n",
       "      <td>5.642857</td>\n",
       "    </tr>\n",
       "    <tr>\n",
       "      <th>6</th>\n",
       "      <td>Computer Services</td>\n",
       "      <td>59.7</td>\n",
       "      <td>14.350000</td>\n",
       "    </tr>\n",
       "    <tr>\n",
       "      <th>7</th>\n",
       "      <td>Conglomerates</td>\n",
       "      <td>62.7</td>\n",
       "      <td>8.833333</td>\n",
       "    </tr>\n",
       "    <tr>\n",
       "      <th>11</th>\n",
       "      <td>Diversified Metals &amp; Mining</td>\n",
       "      <td>67.7</td>\n",
       "      <td>14.800000</td>\n",
       "    </tr>\n",
       "    <tr>\n",
       "      <th>20</th>\n",
       "      <td>Medical Equipment &amp; Supplies</td>\n",
       "      <td>71.3</td>\n",
       "      <td>13.800000</td>\n",
       "    </tr>\n",
       "    <tr>\n",
       "      <th>1</th>\n",
       "      <td>Auto &amp; Truck Manufacturers</td>\n",
       "      <td>79.8</td>\n",
       "      <td>9.025000</td>\n",
       "    </tr>\n",
       "    <tr>\n",
       "      <th>15</th>\n",
       "      <td>Household/Personal Care</td>\n",
       "      <td>84.7</td>\n",
       "      <td>10.900000</td>\n",
       "    </tr>\n",
       "    <tr>\n",
       "      <th>0</th>\n",
       "      <td>Aerospace &amp; Defense</td>\n",
       "      <td>86.6</td>\n",
       "      <td>4.600000</td>\n",
       "    </tr>\n",
       "    <tr>\n",
       "      <th>14</th>\n",
       "      <td>Food Processing</td>\n",
       "      <td>99.4</td>\n",
       "      <td>10.800000</td>\n",
       "    </tr>\n",
       "    <tr>\n",
       "      <th>13</th>\n",
       "      <td>Electric Utilities</td>\n",
       "      <td>100.4</td>\n",
       "      <td>4.400000</td>\n",
       "    </tr>\n",
       "    <tr>\n",
       "      <th>5</th>\n",
       "      <td>Computer Hardware</td>\n",
       "      <td>112.1</td>\n",
       "      <td>21.150000</td>\n",
       "    </tr>\n",
       "    <tr>\n",
       "      <th>19</th>\n",
       "      <td>Managed Health Care</td>\n",
       "      <td>122.5</td>\n",
       "      <td>5.600000</td>\n",
       "    </tr>\n",
       "    <tr>\n",
       "      <th>12</th>\n",
       "      <td>Drug Retail</td>\n",
       "      <td>126.8</td>\n",
       "      <td>4.600000</td>\n",
       "    </tr>\n",
       "    <tr>\n",
       "      <th>8</th>\n",
       "      <td>Discount Stores</td>\n",
       "      <td>476.5</td>\n",
       "      <td>16.000000</td>\n",
       "    </tr>\n",
       "  </tbody>\n",
       "</table>\n",
       "</div>"
      ],
      "text/plain": [
       "                        industry  sales    profits\n",
       "18                   Major Banks   27.7  11.900000\n",
       "17       Life & Health Insurance   34.5   4.200000\n",
       "25        Software & Programming   37.9  16.950000\n",
       "16           Investment Services   39.5  10.300000\n",
       "2                      Beverages   43.2   9.900000\n",
       "22               Pharmaceuticals   43.7  10.500000\n",
       "3           Broadcasting & Cable   46.0   6.700000\n",
       "4       Communications Equipment   47.9   8.200000\n",
       "9          Diversified Chemicals   50.4   6.550000\n",
       "24                Semiconductors   52.7  18.400000\n",
       "21          Oil & Gas Operations   55.6  16.471429\n",
       "26   Telecommunications services   55.6  14.128571\n",
       "23                Regional Banks   56.5  19.550000\n",
       "10         Diversified Insurance   59.0   5.642857\n",
       "6              Computer Services   59.7  14.350000\n",
       "7                  Conglomerates   62.7   8.833333\n",
       "11   Diversified Metals & Mining   67.7  14.800000\n",
       "20  Medical Equipment & Supplies   71.3  13.800000\n",
       "1     Auto & Truck Manufacturers   79.8   9.025000\n",
       "15       Household/Personal Care   84.7  10.900000\n",
       "0            Aerospace & Defense   86.6   4.600000\n",
       "14               Food Processing   99.4  10.800000\n",
       "13            Electric Utilities  100.4   4.400000\n",
       "5              Computer Hardware  112.1  21.150000\n",
       "19           Managed Health Care  122.5   5.600000\n",
       "12                   Drug Retail  126.8   4.600000\n",
       "8                Discount Stores  476.5  16.000000"
      ]
     },
     "execution_count": 30,
     "metadata": {},
     "output_type": "execute_result"
    }
   ],
   "source": [
    "result"
   ]
  },
  {
   "cell_type": "markdown",
   "id": "7620bc8f-0cf5-4457-96d5-2a261e3aa1f0",
   "metadata": {},
   "source": [
    "### 14-What is the profit to sales ratio (profit/sales) of Royal Dutch Shell?\r\n",
    "Output the result along with the company name."
   ]
  },
  {
   "cell_type": "code",
   "execution_count": 37,
   "id": "7afcd540-75d9-4ead-b0b7-9ef82d5fe55c",
   "metadata": {},
   "outputs": [
    {
     "name": "stderr",
     "output_type": "stream",
     "text": [
      "C:\\Users\\ROHIT SHARMA\\AppData\\Local\\Temp\\ipykernel_5532\\2027215519.py:5: SettingWithCopyWarning: \n",
      "A value is trying to be set on a copy of a slice from a DataFrame.\n",
      "Try using .loc[row_indexer,col_indexer] = value instead\n",
      "\n",
      "See the caveats in the documentation: https://pandas.pydata.org/pandas-docs/stable/user_guide/indexing.html#returning-a-view-versus-a-copy\n",
      "  royal_dutch['profit_to_sales_ratio'] = royal_dutch['profits'] /royal_dutch['sales']\n"
     ]
    }
   ],
   "source": [
    "import pandas as pd\n",
    "import numpy as np\n",
    "\n",
    "royal_dutch = forbes_global_2010_2014[forbes_global_2010_2014['company']=='Royal Dutch Shell']\n",
    "royal_dutch['profit_to_sales_ratio'] = royal_dutch['profits'] /royal_dutch['sales']\n",
    "result = royal_dutch[['company','profit_to_sales_ratio']]"
   ]
  },
  {
   "cell_type": "code",
   "execution_count": 38,
   "id": "e31cf768-cfa2-4141-946c-952f7e79f322",
   "metadata": {},
   "outputs": [
    {
     "data": {
      "text/html": [
       "<div>\n",
       "<style scoped>\n",
       "    .dataframe tbody tr th:only-of-type {\n",
       "        vertical-align: middle;\n",
       "    }\n",
       "\n",
       "    .dataframe tbody tr th {\n",
       "        vertical-align: top;\n",
       "    }\n",
       "\n",
       "    .dataframe thead th {\n",
       "        text-align: right;\n",
       "    }\n",
       "</style>\n",
       "<table border=\"1\" class=\"dataframe\">\n",
       "  <thead>\n",
       "    <tr style=\"text-align: right;\">\n",
       "      <th></th>\n",
       "      <th>company</th>\n",
       "      <th>profit_to_sales_ratio</th>\n",
       "    </tr>\n",
       "  </thead>\n",
       "  <tbody>\n",
       "    <tr>\n",
       "      <th>10</th>\n",
       "      <td>Royal Dutch Shell</td>\n",
       "      <td>0.036331</td>\n",
       "    </tr>\n",
       "  </tbody>\n",
       "</table>\n",
       "</div>"
      ],
      "text/plain": [
       "              company  profit_to_sales_ratio\n",
       "10  Royal Dutch Shell               0.036331"
      ]
     },
     "execution_count": 38,
     "metadata": {},
     "output_type": "execute_result"
    }
   ],
   "source": [
    "result"
   ]
  },
  {
   "cell_type": "markdown",
   "id": "4721a79f-2bf9-40a2-8f83-f8e9090a7384",
   "metadata": {},
   "source": [
    "### 15-What is the profit to sales ratio (profit/sales) of Royal Dutch Shell?\r\n",
    "Output the result along with the company name."
   ]
  },
  {
   "cell_type": "code",
   "execution_count": 39,
   "id": "c9ff63e0-c4b0-4ea0-805b-e3de0c538a59",
   "metadata": {},
   "outputs": [
    {
     "name": "stderr",
     "output_type": "stream",
     "text": [
      "C:\\Users\\ROHIT SHARMA\\AppData\\Local\\Temp\\ipykernel_5532\\2027215519.py:5: SettingWithCopyWarning: \n",
      "A value is trying to be set on a copy of a slice from a DataFrame.\n",
      "Try using .loc[row_indexer,col_indexer] = value instead\n",
      "\n",
      "See the caveats in the documentation: https://pandas.pydata.org/pandas-docs/stable/user_guide/indexing.html#returning-a-view-versus-a-copy\n",
      "  royal_dutch['profit_to_sales_ratio'] = royal_dutch['profits'] /royal_dutch['sales']\n"
     ]
    }
   ],
   "source": [
    "import pandas as pd\n",
    "import numpy as np\n",
    "\n",
    "royal_dutch = forbes_global_2010_2014[forbes_global_2010_2014['company']=='Royal Dutch Shell']\n",
    "royal_dutch['profit_to_sales_ratio'] = royal_dutch['profits'] /royal_dutch['sales']\n",
    "result = royal_dutch[['company','profit_to_sales_ratio']]"
   ]
  },
  {
   "cell_type": "code",
   "execution_count": 40,
   "id": "b5b381de-e62d-4bfb-90cd-ec5f9f9d0952",
   "metadata": {},
   "outputs": [
    {
     "data": {
      "text/html": [
       "<div>\n",
       "<style scoped>\n",
       "    .dataframe tbody tr th:only-of-type {\n",
       "        vertical-align: middle;\n",
       "    }\n",
       "\n",
       "    .dataframe tbody tr th {\n",
       "        vertical-align: top;\n",
       "    }\n",
       "\n",
       "    .dataframe thead th {\n",
       "        text-align: right;\n",
       "    }\n",
       "</style>\n",
       "<table border=\"1\" class=\"dataframe\">\n",
       "  <thead>\n",
       "    <tr style=\"text-align: right;\">\n",
       "      <th></th>\n",
       "      <th>company</th>\n",
       "      <th>profit_to_sales_ratio</th>\n",
       "    </tr>\n",
       "  </thead>\n",
       "  <tbody>\n",
       "    <tr>\n",
       "      <th>10</th>\n",
       "      <td>Royal Dutch Shell</td>\n",
       "      <td>0.036331</td>\n",
       "    </tr>\n",
       "  </tbody>\n",
       "</table>\n",
       "</div>"
      ],
      "text/plain": [
       "              company  profit_to_sales_ratio\n",
       "10  Royal Dutch Shell               0.036331"
      ]
     },
     "execution_count": 40,
     "metadata": {},
     "output_type": "execute_result"
    }
   ],
   "source": [
    "result"
   ]
  },
  {
   "cell_type": "markdown",
   "id": "2a327770-1043-4a62-93e2-f7268572b523",
   "metadata": {},
   "source": [
    "### 16-Find the industry with lowest average sales. Output that industry."
   ]
  },
  {
   "cell_type": "code",
   "execution_count": 41,
   "id": "4803491c-91be-4e14-b740-81b19c3b98bd",
   "metadata": {},
   "outputs": [],
   "source": [
    "import pandas as pd\n",
    "import numpy as np\n",
    "\n",
    "industries = forbes_global_2010_2014.groupby(['industry'])['sales'].mean().to_frame('avg_sales').reset_index()\n",
    "result = industries[industries.avg_sales == min(industries.avg_sales)]['industry']"
   ]
  },
  {
   "cell_type": "code",
   "execution_count": 42,
   "id": "2c4a70f7-5cdc-4724-8aa4-0258f0149899",
   "metadata": {},
   "outputs": [
    {
     "data": {
      "text/plain": [
       "4    Communications Equipment\n",
       "Name: industry, dtype: object"
      ]
     },
     "execution_count": 42,
     "metadata": {},
     "output_type": "execute_result"
    }
   ],
   "source": [
    "result"
   ]
  },
  {
   "cell_type": "markdown",
   "id": "54a1212c-0e98-4e6a-934f-a74c6038a146",
   "metadata": {},
   "source": [
    "### 17-Count the number of companies in the Information Technology sector in each country.\r\n",
    "Output the result along with the corresponding country name.\r\n",
    "Order the result based on the number of companies in the descending order."
   ]
  },
  {
   "cell_type": "code",
   "execution_count": 43,
   "id": "7c481dfc-ec0c-4e5d-b8c9-9477757ea181",
   "metadata": {},
   "outputs": [],
   "source": [
    "import pandas as pd\n",
    "import numpy as np\n",
    "\n",
    "it_sector = forbes_global_2010_2014[forbes_global_2010_2014['sector'] == 'Information Technology' ]\n",
    "result = it_sector.groupby(['country']).size().to_frame('size').reset_index().sort_values(['size'],ascending = False).rename(columns={\"size\": \"n_companies\"})"
   ]
  },
  {
   "cell_type": "code",
   "execution_count": 44,
   "id": "7d4505e9-6388-4dae-b635-2dd3f8f1369b",
   "metadata": {},
   "outputs": [
    {
     "data": {
      "text/html": [
       "<div>\n",
       "<style scoped>\n",
       "    .dataframe tbody tr th:only-of-type {\n",
       "        vertical-align: middle;\n",
       "    }\n",
       "\n",
       "    .dataframe tbody tr th {\n",
       "        vertical-align: top;\n",
       "    }\n",
       "\n",
       "    .dataframe thead th {\n",
       "        text-align: right;\n",
       "    }\n",
       "</style>\n",
       "<table border=\"1\" class=\"dataframe\">\n",
       "  <thead>\n",
       "    <tr style=\"text-align: right;\">\n",
       "      <th></th>\n",
       "      <th>country</th>\n",
       "      <th>n_companies</th>\n",
       "    </tr>\n",
       "  </thead>\n",
       "  <tbody>\n",
       "    <tr>\n",
       "      <th>1</th>\n",
       "      <td>United States</td>\n",
       "      <td>8</td>\n",
       "    </tr>\n",
       "    <tr>\n",
       "      <th>0</th>\n",
       "      <td>South Korea</td>\n",
       "      <td>1</td>\n",
       "    </tr>\n",
       "  </tbody>\n",
       "</table>\n",
       "</div>"
      ],
      "text/plain": [
       "         country  n_companies\n",
       "1  United States            8\n",
       "0    South Korea            1"
      ]
     },
     "execution_count": 44,
     "metadata": {},
     "output_type": "execute_result"
    }
   ],
   "source": [
    "result"
   ]
  },
  {
   "cell_type": "markdown",
   "id": "e61904ce-2549-44f6-b499-b507d78b0160",
   "metadata": {},
   "source": [
    "### 18-Find the highest market value for each sector.\r\n",
    "Output the sector name along with the result."
   ]
  },
  {
   "cell_type": "code",
   "execution_count": 31,
   "id": "f6c21178-bbea-4021-828c-ab50689ee759",
   "metadata": {},
   "outputs": [],
   "source": [
    "import pandas as pd\n",
    "import numpy as np\n",
    "\n",
    "result = forbes_global_2010_2014.groupby(['sector'])['marketvalue'].max()"
   ]
  },
  {
   "cell_type": "code",
   "execution_count": 32,
   "id": "636a1dd2-8f0b-4366-b977-13e6f9fe5a5b",
   "metadata": {},
   "outputs": [
    {
     "data": {
      "text/plain": [
       "sector\n",
       "Consumer Discretionary        247.9\n",
       "Consumer Staples              239.6\n",
       "Energy                        422.3\n",
       "Financials                    309.1\n",
       "Health Care                   277.0\n",
       "Industrials                   259.6\n",
       "Information Technology        483.1\n",
       "Materials                     182.3\n",
       "Telecommunication Services    197.7\n",
       "Utilities                      75.8\n",
       "Name: marketvalue, dtype: float64"
      ]
     },
     "execution_count": 32,
     "metadata": {},
     "output_type": "execute_result"
    }
   ],
   "source": [
    "result"
   ]
  },
  {
   "cell_type": "markdown",
   "id": "f04b8b98-7545-4d39-b706-a66d0e2a9b74",
   "metadata": {},
   "source": [
    "### 15-"
   ]
  },
  {
   "cell_type": "markdown",
   "id": "78182554-32bd-45a0-96c5-deadc25b17aa",
   "metadata": {},
   "source": [
    "### 19-Find the most profitable company from the financial sector. Output the result along with the continent."
   ]
  },
  {
   "cell_type": "code",
   "execution_count": 33,
   "id": "24cb37e1-5098-4c1d-9517-821261f3c027",
   "metadata": {},
   "outputs": [
    {
     "name": "stderr",
     "output_type": "stream",
     "text": [
      "C:\\Users\\ROHIT SHARMA\\AppData\\Local\\Temp\\ipykernel_5532\\2524900940.py:5: SettingWithCopyWarning: \n",
      "A value is trying to be set on a copy of a slice from a DataFrame.\n",
      "Try using .loc[row_indexer,col_indexer] = value instead\n",
      "\n",
      "See the caveats in the documentation: https://pandas.pydata.org/pandas-docs/stable/user_guide/indexing.html#returning-a-view-versus-a-copy\n",
      "  finance_sector['rank'] = finance_sector['profits'].rank(method='min', ascending=False)\n"
     ]
    }
   ],
   "source": [
    "import pandas as pd\n",
    "import numpy as np\n",
    "\n",
    "finance_sector = forbes_global_2010_2014[forbes_global_2010_2014['sector']== 'Financials']\n",
    "finance_sector['rank'] = finance_sector['profits'].rank(method='min', ascending=False)\n",
    "result = finance_sector[finance_sector['rank'] == 1][['company','continent']]"
   ]
  },
  {
   "cell_type": "code",
   "execution_count": 34,
   "id": "dc061436-a0da-4dc6-a4d9-cd822a5019ca",
   "metadata": {},
   "outputs": [
    {
     "data": {
      "text/html": [
       "<div>\n",
       "<style scoped>\n",
       "    .dataframe tbody tr th:only-of-type {\n",
       "        vertical-align: middle;\n",
       "    }\n",
       "\n",
       "    .dataframe tbody tr th {\n",
       "        vertical-align: top;\n",
       "    }\n",
       "\n",
       "    .dataframe thead th {\n",
       "        text-align: right;\n",
       "    }\n",
       "</style>\n",
       "<table border=\"1\" class=\"dataframe\">\n",
       "  <thead>\n",
       "    <tr style=\"text-align: right;\">\n",
       "      <th></th>\n",
       "      <th>company</th>\n",
       "      <th>continent</th>\n",
       "    </tr>\n",
       "  </thead>\n",
       "  <tbody>\n",
       "    <tr>\n",
       "      <th>0</th>\n",
       "      <td>ICBC</td>\n",
       "      <td>Asia</td>\n",
       "    </tr>\n",
       "  </tbody>\n",
       "</table>\n",
       "</div>"
      ],
      "text/plain": [
       "  company continent\n",
       "0    ICBC      Asia"
      ]
     },
     "execution_count": 34,
     "metadata": {},
     "output_type": "execute_result"
    }
   ],
   "source": [
    "result"
   ]
  },
  {
   "cell_type": "markdown",
   "id": "a0bb8f7f-bf43-4b3b-8eb2-32deb85781da",
   "metadata": {},
   "source": [
    "### 20-List all companies working in the financial sector with headquarters in Europe or Asia."
   ]
  },
  {
   "cell_type": "code",
   "execution_count": 35,
   "id": "70de73ae-43c3-4b7d-9f50-501f073a3ea2",
   "metadata": {},
   "outputs": [],
   "source": [
    "import pandas as pd\n",
    "import numpy as np\n",
    "\n",
    "eu_asia = forbes_global_2010_2014[(forbes_global_2010_2014['continent'] == 'Asia') | (forbes_global_2010_2014['continent'] == 'Europe')]\n",
    "result = eu_asia[eu_asia['sector'] == 'Financials'][['company']]"
   ]
  },
  {
   "cell_type": "code",
   "execution_count": 36,
   "id": "59fdbf61-c339-4c00-8e2b-8b4b737f883f",
   "metadata": {},
   "outputs": [
    {
     "data": {
      "text/html": [
       "<div>\n",
       "<style scoped>\n",
       "    .dataframe tbody tr th:only-of-type {\n",
       "        vertical-align: middle;\n",
       "    }\n",
       "\n",
       "    .dataframe tbody tr th {\n",
       "        vertical-align: top;\n",
       "    }\n",
       "\n",
       "    .dataframe thead th {\n",
       "        text-align: right;\n",
       "    }\n",
       "</style>\n",
       "<table border=\"1\" class=\"dataframe\">\n",
       "  <thead>\n",
       "    <tr style=\"text-align: right;\">\n",
       "      <th></th>\n",
       "      <th>company</th>\n",
       "    </tr>\n",
       "  </thead>\n",
       "  <tbody>\n",
       "    <tr>\n",
       "      <th>0</th>\n",
       "      <td>ICBC</td>\n",
       "    </tr>\n",
       "    <tr>\n",
       "      <th>1</th>\n",
       "      <td>China Construction Bank</td>\n",
       "    </tr>\n",
       "    <tr>\n",
       "      <th>2</th>\n",
       "      <td>Agricultural Bank of China</td>\n",
       "    </tr>\n",
       "    <tr>\n",
       "      <th>8</th>\n",
       "      <td>Bank of China</td>\n",
       "    </tr>\n",
       "    <tr>\n",
       "      <th>13</th>\n",
       "      <td>HSBC Holdings</td>\n",
       "    </tr>\n",
       "    <tr>\n",
       "      <th>23</th>\n",
       "      <td>BNP Paribas</td>\n",
       "    </tr>\n",
       "    <tr>\n",
       "      <th>26</th>\n",
       "      <td>Allianz</td>\n",
       "    </tr>\n",
       "    <tr>\n",
       "      <th>32</th>\n",
       "      <td>AXA Group</td>\n",
       "    </tr>\n",
       "    <tr>\n",
       "      <th>36</th>\n",
       "      <td>Mitsubishi UFJ Financial</td>\n",
       "    </tr>\n",
       "    <tr>\n",
       "      <th>42</th>\n",
       "      <td>Banco Santander</td>\n",
       "    </tr>\n",
       "    <tr>\n",
       "      <th>55</th>\n",
       "      <td>Sumitomo Mitsui Financial</td>\n",
       "    </tr>\n",
       "    <tr>\n",
       "      <th>57</th>\n",
       "      <td>Sberbank</td>\n",
       "    </tr>\n",
       "    <tr>\n",
       "      <th>61</th>\n",
       "      <td>Ping An Insurance Group</td>\n",
       "    </tr>\n",
       "    <tr>\n",
       "      <th>64</th>\n",
       "      <td>Bank of Communications</td>\n",
       "    </tr>\n",
       "    <tr>\n",
       "      <th>65</th>\n",
       "      <td>China Life Insurance</td>\n",
       "    </tr>\n",
       "    <tr>\n",
       "      <th>78</th>\n",
       "      <td>UBS</td>\n",
       "    </tr>\n",
       "    <tr>\n",
       "      <th>84</th>\n",
       "      <td>Zurich Insurance Group</td>\n",
       "    </tr>\n",
       "    <tr>\n",
       "      <th>88</th>\n",
       "      <td>Credit Agricole</td>\n",
       "    </tr>\n",
       "    <tr>\n",
       "      <th>91</th>\n",
       "      <td>Munich Re</td>\n",
       "    </tr>\n",
       "    <tr>\n",
       "      <th>96</th>\n",
       "      <td>ING Group</td>\n",
       "    </tr>\n",
       "  </tbody>\n",
       "</table>\n",
       "</div>"
      ],
      "text/plain": [
       "                       company\n",
       "0                         ICBC\n",
       "1      China Construction Bank\n",
       "2   Agricultural Bank of China\n",
       "8                Bank of China\n",
       "13               HSBC Holdings\n",
       "23                 BNP Paribas\n",
       "26                     Allianz\n",
       "32                   AXA Group\n",
       "36    Mitsubishi UFJ Financial\n",
       "42             Banco Santander\n",
       "55   Sumitomo Mitsui Financial\n",
       "57                    Sberbank\n",
       "61     Ping An Insurance Group\n",
       "64      Bank of Communications\n",
       "65        China Life Insurance\n",
       "78                         UBS\n",
       "84      Zurich Insurance Group\n",
       "88             Credit Agricole\n",
       "91                   Munich Re\n",
       "96                   ING Group"
      ]
     },
     "execution_count": 36,
     "metadata": {},
     "output_type": "execute_result"
    }
   ],
   "source": [
    "result"
   ]
  },
  {
   "cell_type": "code",
   "execution_count": 49,
   "id": "692297e3-4460-406d-a101-761210970eda",
   "metadata": {},
   "outputs": [],
   "source": [
    "import pandas as pd\n",
    "\n",
    "# Specify the path to the CSV file\n",
    "file_path = r\"D:\\STRATASCRATCH 1\\forbes_global_2010_2014\\aapl_historical_stock_price.csv\"\n",
    "\n",
    "# Read the CSV file into a DataFrame\n",
    "aapl_historical_stock_price = pd.read_csv(file_path)\n"
   ]
  },
  {
   "cell_type": "code",
   "execution_count": 50,
   "id": "e0b9d080-8918-4e92-b4b3-4a4cf6cef642",
   "metadata": {},
   "outputs": [
    {
     "data": {
      "text/html": [
       "<div>\n",
       "<style scoped>\n",
       "    .dataframe tbody tr th:only-of-type {\n",
       "        vertical-align: middle;\n",
       "    }\n",
       "\n",
       "    .dataframe tbody tr th {\n",
       "        vertical-align: top;\n",
       "    }\n",
       "\n",
       "    .dataframe thead th {\n",
       "        text-align: right;\n",
       "    }\n",
       "</style>\n",
       "<table border=\"1\" class=\"dataframe\">\n",
       "  <thead>\n",
       "    <tr style=\"text-align: right;\">\n",
       "      <th></th>\n",
       "      <th>date</th>\n",
       "      <th>year</th>\n",
       "      <th>month</th>\n",
       "      <th>open</th>\n",
       "      <th>high</th>\n",
       "      <th>low</th>\n",
       "      <th>close</th>\n",
       "      <th>volume</th>\n",
       "      <th>id</th>\n",
       "    </tr>\n",
       "  </thead>\n",
       "  <tbody>\n",
       "    <tr>\n",
       "      <th>0</th>\n",
       "      <td>2012-12-31</td>\n",
       "      <td>2012</td>\n",
       "      <td>12</td>\n",
       "      <td>510.53</td>\n",
       "      <td>506.5</td>\n",
       "      <td>509.00</td>\n",
       "      <td>532.17</td>\n",
       "      <td>23553255</td>\n",
       "      <td>273</td>\n",
       "    </tr>\n",
       "    <tr>\n",
       "      <th>1</th>\n",
       "      <td>2012-12-28</td>\n",
       "      <td>2012</td>\n",
       "      <td>12</td>\n",
       "      <td>510.29</td>\n",
       "      <td>506.5</td>\n",
       "      <td>508.12</td>\n",
       "      <td>509.59</td>\n",
       "      <td>12652749</td>\n",
       "      <td>274</td>\n",
       "    </tr>\n",
       "    <tr>\n",
       "      <th>2</th>\n",
       "      <td>2012-12-27</td>\n",
       "      <td>2012</td>\n",
       "      <td>12</td>\n",
       "      <td>513.54</td>\n",
       "      <td>506.5</td>\n",
       "      <td>504.66</td>\n",
       "      <td>515.06</td>\n",
       "      <td>16254240</td>\n",
       "      <td>275</td>\n",
       "    </tr>\n",
       "    <tr>\n",
       "      <th>3</th>\n",
       "      <td>2012-12-26</td>\n",
       "      <td>2012</td>\n",
       "      <td>12</td>\n",
       "      <td>519.00</td>\n",
       "      <td>506.5</td>\n",
       "      <td>511.12</td>\n",
       "      <td>513.00</td>\n",
       "      <td>10801290</td>\n",
       "      <td>276</td>\n",
       "    </tr>\n",
       "    <tr>\n",
       "      <th>4</th>\n",
       "      <td>2012-12-24</td>\n",
       "      <td>2012</td>\n",
       "      <td>12</td>\n",
       "      <td>520.35</td>\n",
       "      <td>506.5</td>\n",
       "      <td>518.71</td>\n",
       "      <td>520.17</td>\n",
       "      <td>6276711</td>\n",
       "      <td>277</td>\n",
       "    </tr>\n",
       "  </tbody>\n",
       "</table>\n",
       "</div>"
      ],
      "text/plain": [
       "         date  year  month    open   high     low   close    volume   id\n",
       "0  2012-12-31  2012     12  510.53  506.5  509.00  532.17  23553255  273\n",
       "1  2012-12-28  2012     12  510.29  506.5  508.12  509.59  12652749  274\n",
       "2  2012-12-27  2012     12  513.54  506.5  504.66  515.06  16254240  275\n",
       "3  2012-12-26  2012     12  519.00  506.5  511.12  513.00  10801290  276\n",
       "4  2012-12-24  2012     12  520.35  506.5  518.71  520.17   6276711  277"
      ]
     },
     "execution_count": 50,
     "metadata": {},
     "output_type": "execute_result"
    }
   ],
   "source": [
    "aapl_historical_stock_price.head()"
   ]
  },
  {
   "cell_type": "markdown",
   "id": "1a8e2e91-1b24-4948-aee1-c275c71dd1db",
   "metadata": {},
   "source": [
    "### 21-Find the date when Apple's opening stock price reached its maximum"
   ]
  },
  {
   "cell_type": "code",
   "execution_count": 53,
   "id": "050f3577-b2dd-4da8-9384-4103432db0d4",
   "metadata": {},
   "outputs": [],
   "source": [
    "import pandas as pd\n",
    "import numpy as np\n",
    "import datetime, time \n",
    "\n",
    "df = aapl_historical_stock_price\n",
    "df['date'] = df['date'].apply(lambda x: x.strftime('%Y-%m-%d'))\n",
    "\n",
    "result = df[df['open'] == df['open'].max()][['date']]"
   ]
  },
  {
   "cell_type": "code",
   "execution_count": 54,
   "id": "7bdd708a-ede6-4c8b-82fe-ec50531da4c4",
   "metadata": {},
   "outputs": [
    {
     "data": {
      "text/html": [
       "<div>\n",
       "<style scoped>\n",
       "    .dataframe tbody tr th:only-of-type {\n",
       "        vertical-align: middle;\n",
       "    }\n",
       "\n",
       "    .dataframe tbody tr th {\n",
       "        vertical-align: top;\n",
       "    }\n",
       "\n",
       "    .dataframe thead th {\n",
       "        text-align: right;\n",
       "    }\n",
       "</style>\n",
       "<table border=\"1\" class=\"dataframe\">\n",
       "  <thead>\n",
       "    <tr style=\"text-align: right;\">\n",
       "      <th></th>\n",
       "      <th>date</th>\n",
       "    </tr>\n",
       "  </thead>\n",
       "  <tbody>\n",
       "    <tr>\n",
       "      <th>66</th>\n",
       "      <td>2012-09-21</td>\n",
       "    </tr>\n",
       "  </tbody>\n",
       "</table>\n",
       "</div>"
      ],
      "text/plain": [
       "          date\n",
       "66  2012-09-21"
      ]
     },
     "execution_count": 54,
     "metadata": {},
     "output_type": "execute_result"
    }
   ],
   "source": [
    "result"
   ]
  },
  {
   "cell_type": "markdown",
   "id": "6c6ae64c-6539-48e0-9fca-5df9d090c592",
   "metadata": {},
   "source": [
    "### 22-Find the best day of the month for AAPL stock trading. The best day is the one with highest positive difference between average closing price and average opening price. Output the result along with the average opening and closing prices.\r\n",
    "\r\n"
   ]
  },
  {
   "cell_type": "code",
   "execution_count": 51,
   "id": "bbb661a4-d40b-48a4-9425-612f2c15b2eb",
   "metadata": {},
   "outputs": [],
   "source": [
    "import pandas as pd\n",
    "import numpy as np\n",
    "\n",
    "aapl_historical_stock_price['date'] = aapl_historical_stock_price['date'].apply(\n",
    "    pd.to_datetime)\n",
    "aapl_historical_stock_price.loc[:, 'open':'volume'] = aapl_historical_stock_price.loc[:, 'open':'volume'].apply(\n",
    "    pd.to_numeric)\n",
    "aapl_historical_stock_price['day_of_month'] = aapl_historical_stock_price['date'].dt.day\n",
    "result = aapl_historical_stock_price.groupby('day_of_month').agg(\n",
    "    {'open': 'mean', 'close': 'mean'}).reset_index()\n",
    "max_difference = (result['close'] - result['open']).max()\n",
    "result = result[(result.close - result.open) == max_difference]"
   ]
  },
  {
   "cell_type": "code",
   "execution_count": 52,
   "id": "cde4d4a5-db80-4f32-9b00-265d0f93e6ac",
   "metadata": {},
   "outputs": [
    {
     "data": {
      "text/html": [
       "<div>\n",
       "<style scoped>\n",
       "    .dataframe tbody tr th:only-of-type {\n",
       "        vertical-align: middle;\n",
       "    }\n",
       "\n",
       "    .dataframe tbody tr th {\n",
       "        vertical-align: top;\n",
       "    }\n",
       "\n",
       "    .dataframe thead th {\n",
       "        text-align: right;\n",
       "    }\n",
       "</style>\n",
       "<table border=\"1\" class=\"dataframe\">\n",
       "  <thead>\n",
       "    <tr style=\"text-align: right;\">\n",
       "      <th></th>\n",
       "      <th>day_of_month</th>\n",
       "      <th>open</th>\n",
       "      <th>close</th>\n",
       "    </tr>\n",
       "  </thead>\n",
       "  <tbody>\n",
       "    <tr>\n",
       "      <th>8</th>\n",
       "      <td>9</td>\n",
       "      <td>550.48375</td>\n",
       "      <td>555.895</td>\n",
       "    </tr>\n",
       "  </tbody>\n",
       "</table>\n",
       "</div>"
      ],
      "text/plain": [
       "   day_of_month       open    close\n",
       "8             9  550.48375  555.895"
      ]
     },
     "execution_count": 52,
     "metadata": {},
     "output_type": "execute_result"
    }
   ],
   "source": [
    "result"
   ]
  },
  {
   "cell_type": "code",
   "execution_count": null,
   "id": "1822d739-3d67-4bff-9400-b38f56ce1a81",
   "metadata": {},
   "outputs": [],
   "source": []
  }
 ],
 "metadata": {
  "kernelspec": {
   "display_name": "Python 3 (ipykernel)",
   "language": "python",
   "name": "python3"
  },
  "language_info": {
   "codemirror_mode": {
    "name": "ipython",
    "version": 3
   },
   "file_extension": ".py",
   "mimetype": "text/x-python",
   "name": "python",
   "nbconvert_exporter": "python",
   "pygments_lexer": "ipython3",
   "version": "3.11.5"
  },
  "widgets": {
   "application/vnd.jupyter.widget-state+json": {
    "state": {},
    "version_major": 2,
    "version_minor": 0
   }
  }
 },
 "nbformat": 4,
 "nbformat_minor": 5
}
